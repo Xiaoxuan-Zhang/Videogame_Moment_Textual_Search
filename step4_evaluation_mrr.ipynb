{
 "cells": [
  {
   "cell_type": "code",
   "execution_count": 1,
   "metadata": {},
   "outputs": [
    {
     "name": "stdout",
     "output_type": "stream",
     "text": [
      "Populating the interactive namespace from numpy and matplotlib\n"
     ]
    }
   ],
   "source": [
    "import os\n",
    "import json\n",
    "%pylab inline"
   ]
  },
  {
   "cell_type": "code",
   "execution_count": 2,
   "metadata": {},
   "outputs": [],
   "source": [
    "class Evaluation_MRR:\n",
    "    def __init__(self, database_file):\n",
    "        with open(database_file, 'r') as f:\n",
    "            self.database = json.loads(f.read())\n",
    "            self.fps = dict()\n",
    "            for data in self.database:\n",
    "                self.fps[data['file_index']] = data['screenshots']['fps']\n",
    "        return;\n",
    "    \n",
    "    def frame_index(self, fps, time):\n",
    "        return int(fps * time)\n",
    "\n",
    "    def to_milliseconds(self, time_str):\n",
    "        time_tokens = time_str.split(':')\n",
    "        mSec = int(time_tokens[0])*3600 + int(time_tokens[1]) * 60 + int(time_tokens[2])\n",
    "        return mSec\n",
    "\n",
    "    def valid_answer(self, file_id, frame_id, answer_list):\n",
    "        hit = False\n",
    "        for answer in answer_list:\n",
    "            video_id = answer['video_id']\n",
    "            frame_start = self.frame_index(self.fps[file_id], self.to_milliseconds(answer['timeslot'][0]))\n",
    "            frame_stop = self.frame_index(self.fps[file_id], self.to_milliseconds(answer['timeslot'][1]))\n",
    "            #print(f'results:(file_id={file_id}, frame_id={frame_id}),answers:(video_id={video_id},frame_range=({frame_start}, {frame_stop}) )')\n",
    "            if file_id == video_id and (int(frame_id) >= frame_start and int(frame_id) <= frame_stop):\n",
    "                hit = True\n",
    "        return hit\n",
    "\n",
    "    def reciprocal_rank(self, answer_data, rst_data):\n",
    "        rank = 0\n",
    "        for rst_idx in range(len(rst_data)):\n",
    "            data = rst_data[rst_idx]\n",
    "            file_id = data['file']\n",
    "            frame_id = data['frame_id']\n",
    "            if self.valid_answer(file_id, frame_id, answer_data):\n",
    "                print(f'******Hit! Found an answer at rank {rst_idx}!******')\n",
    "                rank = rst_idx + 1\n",
    "                break\n",
    "        \n",
    "        if rank > 0:\n",
    "            rank = 1/rank\n",
    "\n",
    "        return rank\n",
    "\n",
    "    def evaluation_mean_rec_rank(self, result_file, answer_file): \n",
    "        json_file = open(result_file)\n",
    "        result_data = json.loads(json_file.read())\n",
    "\n",
    "        json_file = open(answer_file)\n",
    "        answer_data = json.loads(json_file.read())\n",
    "        #print(\"number of results:\", len(result_data.keys()))\n",
    "        \n",
    "        rank_sum = 0\n",
    "        for query, results in result_data.items():\n",
    "            print(f'query: {query}')\n",
    "            if query in answer_data.keys():\n",
    "                answer_list = answer_data[query]\n",
    "                rank_sum += self.reciprocal_rank(answer_list, results)\n",
    "\n",
    "        mean_rank = rank_sum/len(result_data.keys())\n",
    "\n",
    "        return mean_rank"
   ]
  },
  {
   "cell_type": "code",
   "execution_count": 3,
   "metadata": {},
   "outputs": [
    {
     "name": "stdout",
     "output_type": "stream",
     "text": [
      "query: deduction scene\n",
      "query: rewind prompt\n",
      "query: Max fire alarm Chloe Rescue\n",
      "******Hit! Found an answer at rank 8!******\n",
      "query: Butterfly Bucket\n",
      "******Hit! Found an answer at rank 0!******\n",
      "query: Nathan Gun Chloe\n",
      "query: danger gun\n",
      "query: Time Freeze Kate Birds\n",
      "query: Kate Rooftop Max\n",
      "query: storm lightening\n",
      "******Hit! Found an answer at rank 2!******\n",
      "query: storm cliff tornado\n",
      "query: toilet gun\n",
      "query: selfie classroom\n",
      "******Hit! Found an answer at rank 5!******\n",
      "query: Max gallery\n",
      "query: Kate hospital\n",
      "query: Restaurant Jukebox\n",
      "******Hit! Found an answer at rank 2!******\n",
      "query: swimming pool\n",
      "******Hit! Found an answer at rank 6!******\n",
      "query: railway train stuck\n",
      "query: beacon\n",
      "query: sea sunset\n",
      "******Hit! Found an answer at rank 8!******\n",
      "query: jukebox cafe\n",
      "******Hit! Found an answer at rank 2!******\n",
      "query: jump okay okay I'm right here Kate\n",
      "******Hit! Found an answer at rank 0!******\n",
      "query: Kate she did try to kill herself all\n",
      "******Hit! Found an answer at rank 0!******\n",
      "query: Warren's new car\n",
      "query: Chloe Smoking\n",
      "query: Spirit Doe\n",
      "query: Jump\n"
     ]
    },
    {
     "data": {
      "text/plain": [
       "0.1742979242979243"
      ]
     },
     "execution_count": 3,
     "metadata": {},
     "output_type": "execute_result"
    }
   ],
   "source": [
    "database_file = './data source/Life Is Strange 1/output 1/Life Is Strange.json'\n",
    "answer_file = './data source/Life Is Strange 1/output 1/correct_answers.json'\n",
    "result_file = './data source/Life Is Strange 1/output 1/Life Is Strange_results.json'\n",
    "tester0 = Evaluation_MRR(database_file)\n",
    "tester0.evaluation_mean_rec_rank(result_file, answer_file)"
   ]
  },
  {
   "cell_type": "code",
   "execution_count": 4,
   "metadata": {},
   "outputs": [
    {
     "name": "stdout",
     "output_type": "stream",
     "text": [
      "query: deduction scene\n",
      "query: rewind prompt\n",
      "query: Max fire alarm Chloe Rescue\n",
      "query: Butterfly Bucket\n",
      "******Hit! Found an answer at rank 3!******\n",
      "query: Nathan Gun Chloe\n",
      "query: danger gun\n",
      "******Hit! Found an answer at rank 6!******\n",
      "query: Time Freeze Kate Birds\n",
      "query: Kate Rooftop Max\n",
      "query: storm lightening\n",
      "******Hit! Found an answer at rank 6!******\n",
      "query: storm cliff tornado\n",
      "******Hit! Found an answer at rank 0!******\n",
      "query: toilet gun\n",
      "query: selfie classroom\n",
      "******Hit! Found an answer at rank 0!******\n",
      "query: Max gallery\n",
      "query: Kate hospital\n",
      "query: Restaurant Jukebox\n",
      "query: swimming pool\n",
      "******Hit! Found an answer at rank 0!******\n",
      "query: railway train stuck\n",
      "query: beacon\n",
      "******Hit! Found an answer at rank 2!******\n",
      "query: sea sunset\n",
      "******Hit! Found an answer at rank 1!******\n",
      "query: jukebox cafe\n",
      "******Hit! Found an answer at rank 0!******\n",
      "query: jump okay okay I'm right here Kate\n",
      "******Hit! Found an answer at rank 0!******\n",
      "query: Kate she did try to kill herself all\n",
      "******Hit! Found an answer at rank 0!******\n",
      "query: Warren's new car\n",
      "query: Chloe Smoking\n",
      "query: Spirit Doe\n",
      "query: Jump\n"
     ]
    },
    {
     "data": {
      "text/plain": [
       "0.2834249084249084"
      ]
     },
     "execution_count": 4,
     "metadata": {},
     "output_type": "execute_result"
    }
   ],
   "source": [
    "database_file = './data source/Life Is Strange 1/output 1/lifeisstrange_w_img_top5keywords.json'\n",
    "answer_file = './data source/Life Is Strange 1/output 1/correct_answers.json'\n",
    "result_file = './data source/Life Is Strange 1/output 1/lifeisstrange_w_img_top5keywords_results.json'\n",
    "tester1 = Evaluation_MRR(database_file)\n",
    "tester1.evaluation_mean_rec_rank(result_file, answer_file)"
   ]
  },
  {
   "cell_type": "code",
   "execution_count": 5,
   "metadata": {
    "scrolled": false
   },
   "outputs": [
    {
     "name": "stdout",
     "output_type": "stream",
     "text": [
      "query: deduction scene\n",
      "query: rewind prompt\n",
      "query: Max fire alarm Chloe Rescue\n",
      "query: Butterfly Bucket\n",
      "******Hit! Found an answer at rank 0!******\n",
      "query: Nathan Gun Chloe\n",
      "query: danger gun\n",
      "******Hit! Found an answer at rank 0!******\n",
      "query: Time Freeze Kate Birds\n",
      "query: Kate Rooftop Max\n",
      "query: storm lightening\n",
      "query: storm cliff tornado\n",
      "******Hit! Found an answer at rank 0!******\n",
      "query: toilet gun\n",
      "query: selfie classroom\n",
      "******Hit! Found an answer at rank 0!******\n",
      "query: Max gallery\n",
      "******Hit! Found an answer at rank 4!******\n",
      "query: Kate hospital\n",
      "query: Restaurant Jukebox\n",
      "query: swimming pool\n",
      "******Hit! Found an answer at rank 9!******\n",
      "query: railway train stuck\n",
      "query: beacon\n",
      "******Hit! Found an answer at rank 1!******\n",
      "query: sea sunset\n",
      "******Hit! Found an answer at rank 2!******\n",
      "query: jukebox cafe\n",
      "******Hit! Found an answer at rank 0!******\n",
      "query: jump okay okay I'm right here Kate\n",
      "******Hit! Found an answer at rank 0!******\n",
      "query: Kate she did try to kill herself all\n",
      "******Hit! Found an answer at rank 0!******\n",
      "query: Warren's new car\n",
      "******Hit! Found an answer at rank 5!******\n",
      "query: Chloe Smoking\n",
      "query: Spirit Doe\n",
      "query: Jump\n"
     ]
    },
    {
     "data": {
      "text/plain": [
       "0.3192307692307692"
      ]
     },
     "execution_count": 5,
     "metadata": {},
     "output_type": "execute_result"
    }
   ],
   "source": [
    "database_file = './data source/Life Is Strange 1/output 1/lifeisstrange_w_img_top3keywords.json'\n",
    "answer_file = './data source/Life Is Strange 1/output 1/correct_answers.json'\n",
    "result_file = './data source/Life Is Strange 1/output 1/lifeisstrange_w_img_top3keywords_results.json'\n",
    "tester2 = Evaluation_MRR(database_file)\n",
    "tester2.evaluation_mean_rec_rank(result_file, answer_file)"
   ]
  },
  {
   "cell_type": "code",
   "execution_count": 6,
   "metadata": {},
   "outputs": [
    {
     "name": "stdout",
     "output_type": "stream",
     "text": [
      "query: deduction scene\n",
      "query: rewind prompt\n",
      "query: Max fire alarm Chloe Rescue\n",
      "query: Butterfly Bucket\n",
      "******Hit! Found an answer at rank 2!******\n",
      "query: Nathan Gun Chloe\n",
      "query: danger gun\n",
      "******Hit! Found an answer at rank 0!******\n",
      "query: Time Freeze Kate Birds\n",
      "query: Kate Rooftop Max\n",
      "query: storm lightening\n",
      "******Hit! Found an answer at rank 9!******\n",
      "query: storm cliff tornado\n",
      "******Hit! Found an answer at rank 0!******\n",
      "query: toilet gun\n",
      "query: selfie classroom\n",
      "******Hit! Found an answer at rank 0!******\n",
      "query: Max gallery\n",
      "query: Kate hospital\n",
      "query: Restaurant Jukebox\n",
      "query: swimming pool\n",
      "query: railway train stuck\n",
      "query: beacon\n",
      "******Hit! Found an answer at rank 0!******\n",
      "query: sea sunset\n",
      "******Hit! Found an answer at rank 0!******\n",
      "query: jukebox cafe\n",
      "******Hit! Found an answer at rank 1!******\n",
      "query: jump okay okay I'm right here Kate\n",
      "******Hit! Found an answer at rank 0!******\n",
      "query: Kate she did try to kill herself all\n",
      "******Hit! Found an answer at rank 0!******\n",
      "query: Warren's new car\n",
      "******Hit! Found an answer at rank 4!******\n",
      "query: Chloe Smoking\n",
      "query: Spirit Doe\n",
      "query: Jump\n"
     ]
    },
    {
     "data": {
      "text/plain": [
       "0.3128205128205128"
      ]
     },
     "execution_count": 6,
     "metadata": {},
     "output_type": "execute_result"
    }
   ],
   "source": [
    "database_file = './data source/Life Is Strange 1/output 1/lifeisstrange_w_img_top3keywords.json'\n",
    "answer_file = './data source/Life Is Strange 1/output 1/correct_answers.json'\n",
    "result_file = './data source/Life Is Strange 1/output 1/lifeisstrange_w_img_top3keywords_results_ma.json'\n",
    "tester3 = Evaluation_MRR(database_file)\n",
    "tester3.evaluation_mean_rec_rank(result_file, answer_file)"
   ]
  },
  {
   "cell_type": "code",
   "execution_count": null,
   "metadata": {},
   "outputs": [],
   "source": []
  },
  {
   "cell_type": "code",
   "execution_count": null,
   "metadata": {},
   "outputs": [],
   "source": []
  }
 ],
 "metadata": {
  "kernelspec": {
   "display_name": "Python 3",
   "language": "python",
   "name": "python3"
  },
  "language_info": {
   "codemirror_mode": {
    "name": "ipython",
    "version": 3
   },
   "file_extension": ".py",
   "mimetype": "text/x-python",
   "name": "python",
   "nbconvert_exporter": "python",
   "pygments_lexer": "ipython3",
   "version": "3.6.2rc2"
  }
 },
 "nbformat": 4,
 "nbformat_minor": 2
}
