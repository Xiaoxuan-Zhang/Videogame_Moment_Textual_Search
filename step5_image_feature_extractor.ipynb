{
 "cells": [
  {
   "cell_type": "markdown",
   "metadata": {},
   "source": [
    "# Step 5 - Extract image features using pretrained model\n",
    "\n",
    "This script extracts image features using pretrained models for the purpose of visualization in Videogame Moment Space. \n",
    "\n",
    "Prerequisites: Keras, numpy\n",
    "\n",
    "Input:\n",
    "    1. database file\n",
    "Output:\n",
    "    1. image features stored in .npy file"
   ]
  },
  {
   "cell_type": "code",
   "execution_count": 1,
   "metadata": {},
   "outputs": [
    {
     "name": "stdout",
     "output_type": "stream",
     "text": [
      "Populating the interactive namespace from numpy and matplotlib\n"
     ]
    },
    {
     "name": "stderr",
     "output_type": "stream",
     "text": [
      "Using TensorFlow backend.\n"
     ]
    }
   ],
   "source": [
    "%pylab inline\n",
    "import os\n",
    "import json\n",
    "from imageextractor import ImageFeatureExtractor"
   ]
  },
  {
   "cell_type": "code",
   "execution_count": 2,
   "metadata": {},
   "outputs": [],
   "source": [
    "\"\"\"\n",
    "Make sure these variables are correctly set.\n",
    "model: model name inceptionv3|vgg19\n",
    "input_shape: different model requires different image input shape. \n",
    "            The required input image has to be in shape(299,299) for InceptionV3 and (224, 224) for VGG19\n",
    "database_file: file path to the database file generated from previous steps\n",
    "\"\"\"\n",
    "\n",
    "model='inceptionv3'\n",
    "input_shape = (299, 299)\n",
    "database_file = './visualization/backend/datasource/The Last Of Us/output/The_Last_Of_Us_top3keywords.json'\n",
    "# np_file = './data source/Life Is Strange 1/output/Life_Is_Strange_visual_emb_' + model"
   ]
  },
  {
   "cell_type": "code",
   "execution_count": 3,
   "metadata": {},
   "outputs": [
    {
     "name": "stdout",
     "output_type": "stream",
     "text": [
      "Downloading data from https://github.com/fchollet/deep-learning-models/releases/download/v0.5/inception_v3_weights_tf_dim_ordering_tf_kernels_notop.h5\n",
      "87916544/87910968 [==============================] - 12s 0us/step\n",
      "Wall time: 25.4 s\n"
     ]
    }
   ],
   "source": [
    "%%time\n",
    "\n",
    "extractor = ImageFeatureExtractor(model=model, resize_shape=input_shape)"
   ]
  },
  {
   "cell_type": "code",
   "execution_count": null,
   "metadata": {},
   "outputs": [],
   "source": [
    "# %%time\n",
    "# # save image vectors as separate files\n",
    "# json_file = open(database_file)\n",
    "# database = json.loads(json_file.read())\n",
    "# for block in database:\n",
    "#     folder = block['screenshots']['image_folder']\n",
    "#     sessions = block['screenshots']['image_info']\n",
    "#     for session in sessions:\n",
    "#         for key, image in session['frames'].items():\n",
    "#             img_name = image['image_file']\n",
    "#             file_path = os.path.join(folder, img_name)\n",
    "#             img = extractor.preprocess(file_path)\n",
    "#             features = extractor.extract_features(img)\n",
    "#             #save to file\n",
    "#             np_filename = img_name[:img_name.rfind('.')]\n",
    "#             np_dir = folder + '_feature_' + model\n",
    "#             if not os.path.exists(np_dir):\n",
    "#                 os.makedirs(np_dir)\n",
    "                \n",
    "#             np_file = os.path.join(np_dir, np_filename)\n",
    "#             np.save(np_file, features)\n"
   ]
  },
  {
   "cell_type": "code",
   "execution_count": 5,
   "metadata": {},
   "outputs": [
    {
     "name": "stdout",
     "output_type": "stream",
     "text": [
      "(23149, 2048)\n",
      "Wall time: 1h 43min 5s\n"
     ]
    }
   ],
   "source": [
    "%%time\n",
    "# save image vectors as a single large npy file\n",
    "json_file = open(database_file)\n",
    "database = json.loads(json_file.read())\n",
    "\n",
    "for file_id, data in database.items():\n",
    "    img_features = []\n",
    "    folder = data['screenshots']['image_folder']\n",
    "    sessions = data['screenshots']['image_info']\n",
    "    emb_folder = os.path.join(os.path.dirname(folder), model)\n",
    "    if not os.path.exists(emb_folder):\n",
    "        os.makedirs(emb_folder)\n",
    "    \n",
    "    for session_id, session in sessions.items():\n",
    "        for key, image in session['frames'].items():\n",
    "            img_name = image['image_file']\n",
    "            file_path = os.path.join(folder, img_name)\n",
    "            img = extractor.preprocess(file_path)\n",
    "            features = extractor.extract_features(img)\n",
    "            img_features.append(features)\n",
    "    img_features_np = np.array(img_features)\n",
    "    print(img_features_np.shape)\n",
    "    embedding_file = os.path.join(emb_folder, 'embeddings')\n",
    "    np.save(embedding_file, img_features_np)"
   ]
  },
  {
   "cell_type": "code",
   "execution_count": null,
   "metadata": {},
   "outputs": [],
   "source": [
    "# Test\n",
    "image_file = 'Frame_00001118.jpg'\n",
    "\n",
    "img = extractor.preprocess(image_file)\n",
    "features = extractor.extract_features(img)\n",
    "print(f'inceptionv3 feature shape: {features.shape}')"
   ]
  }
 ],
 "metadata": {
  "kernelspec": {
   "display_name": "Python 3",
   "language": "python",
   "name": "python3"
  },
  "language_info": {
   "codemirror_mode": {
    "name": "ipython",
    "version": 3
   },
   "file_extension": ".py",
   "mimetype": "text/x-python",
   "name": "python",
   "nbconvert_exporter": "python",
   "pygments_lexer": "ipython3",
   "version": "3.6.2rc2"
  }
 },
 "nbformat": 4,
 "nbformat_minor": 2
}
