{
 "cells": [
  {
   "cell_type": "code",
   "execution_count": 1,
   "metadata": {},
   "outputs": [
    {
     "name": "stdout",
     "output_type": "stream",
     "text": [
      "Populating the interactive namespace from numpy and matplotlib\n"
     ]
    },
    {
     "name": "stderr",
     "output_type": "stream",
     "text": [
      "Using TensorFlow backend.\n"
     ]
    }
   ],
   "source": [
    "%pylab inline\n",
    "import os\n",
    "import concurrent.futures\n",
    "import json\n",
    "from keras.applications import inception_v3, InceptionV3, VGG19, InceptionResNetV2\n",
    "from keras.applications import imagenet_utils\n",
    "from keras.preprocessing.image import load_img\n",
    "from keras.preprocessing.image import img_to_array\n",
    "from keras.applications.imagenet_utils import decode_predictions\n",
    "from PIL import Image\n",
    "import h5py as h5py\n",
    "import ssl\n",
    "import pytesseract\n",
    "ssl._create_default_https_context = ssl._create_unverified_context\n"
   ]
  },
  {
   "cell_type": "code",
   "execution_count": 2,
   "metadata": {},
   "outputs": [],
   "source": [
    "class ImageFeatureExtractor:\n",
    "    def __init__(self, model='inceptionv3', resize_shape=(299, 299)):\n",
    "        Models = {\"vgg19\": VGG19, \"inceptionv3\": InceptionV3, \"inceptionresnetv2\": InceptionResNetV2}\n",
    "        self.model = Models[model.lower()](include_top=False, weights='imagenet', pooling='avg')\n",
    "        self.resize_shape = resize_shape\n",
    "        if model in ['inceptionv3']:\n",
    "            self.preprocess_input = inception_v3.preprocess_input\n",
    "        else:\n",
    "            self.preprocess_input = imagenet_utils.preprocess_input\n",
    "\n",
    "    def preprocess(self, image_file):\n",
    "        # load an image in PIL format\n",
    "        original = load_img(image_file, target_size=self.resize_shape) #299, 299\n",
    "        numpy_image = img_to_array(original)\n",
    "        image_batch = np.expand_dims(numpy_image, axis=0)\n",
    "        '''\n",
    "        print('image batch size', image_batch.shape)\n",
    "        plt.imshow(np.uint8(image_batch[0]))\n",
    "        '''  \n",
    "        return self.preprocess_input(image_batch.copy())\n",
    "    \n",
    "    def extract_features(self, image):\n",
    "        features = self.model.predict(image)\n",
    "        #features = decode_predictions(prediction)\n",
    "        return features[0]\n",
    "    \n",
    "    "
   ]
  },
  {
   "cell_type": "code",
   "execution_count": 3,
   "metadata": {},
   "outputs": [
    {
     "name": "stdout",
     "output_type": "stream",
     "text": [
      "CPU times: user 14.9 s, sys: 624 ms, total: 15.6 s\n",
      "Wall time: 15.9 s\n"
     ]
    }
   ],
   "source": [
    "%%time\n",
    "\n",
    "extractor0 = ImageFeatureExtractor(model='inceptionv3', resize_shape = (299, 299))\n",
    "# extractor1 = ImageFeatureExtractor(model='vgg19', resize_shape = (224, 224))\n",
    "# extractor2 = ImageFeatureExtractor(model='inceptionresnetv2', resize_shape = (299, 299))"
   ]
  },
  {
   "cell_type": "code",
   "execution_count": 5,
   "metadata": {},
   "outputs": [
    {
     "name": "stdout",
     "output_type": "stream",
     "text": [
      "(2048,)\n"
     ]
    }
   ],
   "source": [
    "image_file = 'Frame_00001118.jpg'\n",
    "\n",
    "# img = extractor0.preprocess(image_file)\n",
    "# labels = extractor0.extract_labels(img, top=3)\n",
    "# print(labels)\n",
    "\n",
    "img = extractor0.preprocess(image_file)\n",
    "features = extractor0.extract_features(img)\n",
    "print(features.shape)\n",
    "#np.save('Frame_00012403', features)\n",
    "#feature_np = np.load('Frame_00012403.npy')\n",
    "#print(feature_np.shape)\n",
    "# img = extractor2.preprocess(image_file)\n",
    "# labels = extractor2.extract_labels(img, top=3)\n",
    "# print(labels)"
   ]
  },
  {
   "cell_type": "code",
   "execution_count": null,
   "metadata": {},
   "outputs": [],
   "source": [
    "%%time\n",
    "json_file = open('./Movies/Life Is Strange 1/output 1/Life Is Strange.json')\n",
    "database = json.loads(json_file.read())\n",
    "for block in database:\n",
    "    folder = block['screenshots']['image_folder']\n",
    "    sessions = block['screenshots']['image_info']\n",
    "    for session in sessions:\n",
    "        for key, image in session['frames'].items():\n",
    "            img_name = image['image_file']\n",
    "            file_path = os.path.join(folder, img_name)\n",
    "            img = extractor0.preprocess(file_path)\n",
    "            features = extractor0.extract_features(img)\n",
    "            #save to file\n",
    "            np_filename = img_name[:img_name.rfind('.')]\n",
    "            np_dir = folder + '_feature'\n",
    "            if not os.path.exists(np_dir):\n",
    "                os.makedirs(np_dir)\n",
    "                \n",
    "            np_file = os.path.join(np_dir, np_filename)\n",
    "            np.save(np_file, features)\n"
   ]
  },
  {
   "cell_type": "code",
   "execution_count": null,
   "metadata": {},
   "outputs": [],
   "source": []
  }
 ],
 "metadata": {
  "kernelspec": {
   "display_name": "Python 3",
   "language": "python",
   "name": "python3"
  },
  "language_info": {
   "codemirror_mode": {
    "name": "ipython",
    "version": 3
   },
   "file_extension": ".py",
   "mimetype": "text/x-python",
   "name": "python",
   "nbconvert_exporter": "python",
   "pygments_lexer": "ipython3",
   "version": "3.6.2rc2"
  }
 },
 "nbformat": 4,
 "nbformat_minor": 2
}
