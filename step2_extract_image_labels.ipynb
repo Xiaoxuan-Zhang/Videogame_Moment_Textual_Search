{
 "cells": [
  {
   "cell_type": "markdown",
   "metadata": {},
   "source": [
    "# Step 2 - Extract image labels with Image Classification\n",
    "\n",
    "This script is to extract image labels as keywords that will also be embedded into sentence vectors. The purpose is to increase searchability by including visual features as keywords of an image. For example, in an ideal scenario, if an image with a backpack is correctly classified, we will get a keyword \"backpack\" and embed this word into the sentence vecotr. When given an inquiry of \"backpack\" or similar words \"bag\", the retrieval results could include this image as it contains semantically similar words.\n",
    "\n",
    "Prerequisites:\n",
    "    Keras, numpy\n",
    "    \n",
    "Input: \n",
    "    1. database file\n",
    "    \n",
    "Output:\n",
    "    1. new database file"
   ]
  },
  {
   "cell_type": "code",
   "execution_count": 1,
   "metadata": {},
   "outputs": [
    {
     "name": "stdout",
     "output_type": "stream",
     "text": [
      "Populating the interactive namespace from numpy and matplotlib\n"
     ]
    },
    {
     "name": "stderr",
     "output_type": "stream",
     "text": [
      "Using TensorFlow backend.\n"
     ]
    }
   ],
   "source": [
    "%pylab inline\n",
    "import os\n",
    "import json\n",
    "from imageextractor import ImageClassifier\n"
   ]
  },
  {
   "cell_type": "code",
   "execution_count": null,
   "metadata": {},
   "outputs": [],
   "source": [
    "\"\"\"\n",
    "Make sure these variables are correctly set.\n",
    "model: model name inceptionv3|vgg19\n",
    "input_shape: different model requires different image input shape. \n",
    "            The required input image has to be in shape(299,299) for InceptionV3 and (224, 224) for VGG19\n",
    "database_file: file path to database file generated from previous steps\n",
    "output_file: a new database file with image keywords\n",
    "top_n_keywords: specify top n keywords to be extracted\n",
    "\"\"\"\n",
    "\n",
    "model='inceptionv3'\n",
    "input_shape = (299, 299)\n",
    "database_file = './data source/Life Is Strange 1/output/Life Is Strange.json'\n",
    "output_file = './data source/Life Is Strange 1/output/lifeisstrange_w_img_top3keywords.json'\n",
    "top_n_keywords = 3\n"
   ]
  },
  {
   "cell_type": "code",
   "execution_count": 16,
   "metadata": {},
   "outputs": [
    {
     "name": "stdout",
     "output_type": "stream",
     "text": [
      "Wall time: 16.5 s\n"
     ]
    }
   ],
   "source": [
    "%%time\n",
    "extractor = ImageClassifier(model=model, resize_shape=input_shape)"
   ]
  },
  {
   "cell_type": "code",
   "execution_count": 19,
   "metadata": {},
   "outputs": [
    {
     "name": "stdout",
     "output_type": "stream",
     "text": [
      "./data source/Life Is Strange 1/output/Episode_1_Chrysalis\n",
      "./data source/Life Is Strange 1/output/Episode_2_Out_of_Time\n",
      "./data source/Life Is Strange 1/output/Episode_3_Chaos_Theory\n",
      "./data source/Life Is Strange 1/output/Episode_4_Dark_Room\n",
      "./data source/Life Is Strange 1/output/Episode_5_Polarized\n",
      "Wall time: 1h 40min 10s\n"
     ]
    }
   ],
   "source": [
    "%%time\n",
    "\n",
    "json_file = open(database_file)\n",
    "database = json.loads(json_file.read())\n",
    "for file_id, file_info in database.items():\n",
    "    folder = file_info['screenshots']['image_folder']\n",
    "    print(folder)\n",
    "    sessions = file_info['screenshots']['image_info']\n",
    "    for session_id, session in sessions.items():\n",
    "        for key, image in session['frames'].items():\n",
    "            \n",
    "            file_path = os.path.join(folder, image['image_file'])\n",
    "            img = extractor.preprocess(file_path)\n",
    "            labels = extractor.extract_labels(img, top=top_n_keywords)\n",
    "            additional_texts = ' '.join(labels)\n",
    "            session['frames'][key]['image_keywords'] = additional_texts\n",
    "\n",
    "with open(output_file, 'w+') as out:\n",
    "    json.dump(database, out, indent=4)"
   ]
  },
  {
   "cell_type": "code",
   "execution_count": null,
   "metadata": {},
   "outputs": [],
   "source": [
    "# # Test\n",
    "# image_file = 'Frame_00112333.jpg'\n",
    "# img = extractor.preprocess(image_file)\n",
    "# labels = extractor.extract_labels(img, top=3)\n",
    "# print(labels)"
   ]
  },
  {
   "cell_type": "code",
   "execution_count": null,
   "metadata": {},
   "outputs": [],
   "source": []
  }
 ],
 "metadata": {
  "kernelspec": {
   "display_name": "Python 3",
   "language": "python",
   "name": "python3"
  },
  "language_info": {
   "codemirror_mode": {
    "name": "ipython",
    "version": 3
   },
   "file_extension": ".py",
   "mimetype": "text/x-python",
   "name": "python",
   "nbconvert_exporter": "python",
   "pygments_lexer": "ipython3",
   "version": "3.6.7"
  }
 },
 "nbformat": 4,
 "nbformat_minor": 2
}
