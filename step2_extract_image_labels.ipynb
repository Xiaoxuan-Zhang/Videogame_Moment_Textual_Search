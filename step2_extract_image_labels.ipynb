{
 "cells": [
  {
   "cell_type": "markdown",
   "metadata": {},
   "source": [
    "# Step 2 - Extract image labels with Image Classification\n",
    "\n",
    "This script is to extract image labels as keywords that will also be embedded into sentence vectors. The purpose is to increase searchability by including visual features as keywords of an image. For example, in an ideal scenario, if an image with a backpack is correctly classified, we will get a keyword \"backpack\" and embed this word into the sentence vecotr. When given an inquiry of \"backpack\" or similar words \"bag\", the retrieval results could include this image as it contains semantically similar words.\n",
    "\n",
    "Prerequisites:\n",
    "    Keras, numpy\n",
    "    \n",
    "Input: \n",
    "    1. database file\n",
    "    \n",
    "Output:\n",
    "    1. new database file"
   ]
  },
  {
   "cell_type": "code",
   "execution_count": 5,
   "metadata": {},
   "outputs": [
    {
     "name": "stdout",
     "output_type": "stream",
     "text": [
      "Populating the interactive namespace from numpy and matplotlib\n"
     ]
    }
   ],
   "source": [
    "%pylab inline\n",
    "import os\n",
    "import json\n",
    "from imageextractor import ImageClassifier\n"
   ]
  },
  {
   "cell_type": "code",
   "execution_count": 10,
   "metadata": {},
   "outputs": [],
   "source": [
    "\"\"\"\n",
    "Make sure these variables are correctly set.\n",
    "model: model name inceptionv3|vgg19\n",
    "input_shape: different model requires different image input shape. \n",
    "            The required input image has to be in shape(299,299) for InceptionV3 and (224, 224) for VGG19\n",
    "database_file: file path to database file generated from previous steps\n",
    "output_file: a new database file with image keywords\n",
    "top_n_keywords: specify top n keywords to be extracted\n",
    "\"\"\"\n",
    "\n",
    "model='inceptionv3'\n",
    "input_shape = (299, 299)\n",
    "database_file = './visualization/backend/datasource/The Last Of Us/output/The_Last_Of_Us.json'\n",
    "output_file = './visualization/backend/datasource/The Last Of Us/output/The_Last_Of_Us_top1keywords.json'\n",
    "top_n_keywords = 1\n"
   ]
  },
  {
   "cell_type": "code",
   "execution_count": 7,
   "metadata": {},
   "outputs": [
    {
     "name": "stdout",
     "output_type": "stream",
     "text": [
      "CPU times: user 17.8 s, sys: 2.15 s, total: 19.9 s\n",
      "Wall time: 22.6 s\n"
     ]
    }
   ],
   "source": [
    "%%time\n",
    "extractor = ImageClassifier(model=model, resize_shape=input_shape)"
   ]
  },
  {
   "cell_type": "code",
   "execution_count": 11,
   "metadata": {},
   "outputs": [
    {
     "name": "stdout",
     "output_type": "stream",
     "text": [
      "./visualization/backend/datasource/The Last Of Us/output/The_Last_Of_Us/screenshots\n",
      "CPU times: user 2h 9min 50s, sys: 14min 21s, total: 2h 24min 12s\n",
      "Wall time: 49min 42s\n"
     ]
    }
   ],
   "source": [
    "%%time\n",
    "\n",
    "json_file = open(database_file)\n",
    "database = json.loads(json_file.read())\n",
    "for file_id, file_info in database.items():\n",
    "    folder = file_info['screenshots']['image_folder']\n",
    "    print(folder)\n",
    "    sessions = file_info['screenshots']['image_info']\n",
    "    for session_id, session in sessions.items():\n",
    "        for key, image in session['frames'].items():\n",
    "            \n",
    "            file_path = os.path.join(folder, image['image_file'])\n",
    "            img = extractor.preprocess(file_path)\n",
    "            labels = extractor.extract_labels(img, top=top_n_keywords)\n",
    "            additional_texts = ' '.join(labels)\n",
    "            session['frames'][key]['image_keywords'] = additional_texts\n",
    "\n",
    "with open(output_file, 'w+') as out:\n",
    "    json.dump(database, out, indent=4)"
   ]
  },
  {
   "cell_type": "code",
   "execution_count": 4,
   "metadata": {},
   "outputs": [
    {
     "name": "stdout",
     "output_type": "stream",
     "text": [
      "['hare']\n"
     ]
    }
   ],
   "source": [
    "# Test\n",
    "image_file = 'Frame_00249203.jpg'\n",
    "img = extractor.preprocess(image_file)\n",
    "labels = extractor.extract_labels(img, top=3)\n",
    "print(labels)"
   ]
  },
  {
   "cell_type": "code",
   "execution_count": null,
   "metadata": {},
   "outputs": [],
   "source": []
  }
 ],
 "metadata": {
  "kernelspec": {
   "display_name": "Python 3",
   "language": "python",
   "name": "python3"
  },
  "language_info": {
   "codemirror_mode": {
    "name": "ipython",
    "version": 3
   },
   "file_extension": ".py",
   "mimetype": "text/x-python",
   "name": "python",
   "nbconvert_exporter": "python",
   "pygments_lexer": "ipython3",
   "version": "3.6.7"
  }
 },
 "nbformat": 4,
 "nbformat_minor": 2
}
