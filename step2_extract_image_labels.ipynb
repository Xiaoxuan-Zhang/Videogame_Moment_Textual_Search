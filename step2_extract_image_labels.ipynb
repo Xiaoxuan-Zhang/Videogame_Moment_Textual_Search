{
 "cells": [
  {
   "cell_type": "code",
   "execution_count": null,
   "metadata": {},
   "outputs": [],
   "source": [
    "%pylab inline\n",
    "import os\n",
    "import concurrent.futures\n",
    "import json\n",
    "from keras.applications import inception_v3, InceptionV3, VGG19, InceptionResNetV2\n",
    "from keras.applications import imagenet_utils\n",
    "from keras.preprocessing.image import load_img\n",
    "from keras.preprocessing.image import img_to_array\n",
    "from keras.applications.imagenet_utils import decode_predictions\n",
    "from PIL import Image\n",
    "import h5py as h5py\n",
    "import ssl\n",
    "import pytesseract\n",
    "ssl._create_default_https_context = ssl._create_unverified_context\n"
   ]
  },
  {
   "cell_type": "code",
   "execution_count": null,
   "metadata": {},
   "outputs": [],
   "source": [
    "class ImageExtractor:\n",
    "    def __init__(self, model='inceptionv3', resize_shape=(299, 299)):\n",
    "        Models = {\"vgg19\": VGG19, \"inceptionv3\": InceptionV3, \"inceptionresnetv2\": InceptionResNetV2}\n",
    "        self.model = Models[model.lower()](include_top=True, weights='imagenet', input_tensor=None, input_shape=None, pooling=None, classes=1000)\n",
    "        self.resize_shape = resize_shape\n",
    "        if model in ['inceptionv3']:\n",
    "            self.preprocess_input = inception_v3.preprocess_input\n",
    "        else:\n",
    "            self.preprocess_input = imagenet_utils.preprocess_input\n",
    "\n",
    "    def preprocess(self, image_file):\n",
    "        # load an image in PIL format\n",
    "        original = load_img(image_file, target_size=self.resize_shape) #299, 299\n",
    "        numpy_image = img_to_array(original)\n",
    "        image_batch = np.expand_dims(numpy_image, axis=0)\n",
    "        '''\n",
    "        print('image batch size', image_batch.shape)\n",
    "        plt.imshow(np.uint8(image_batch[0]))\n",
    "        '''  \n",
    "        return self.preprocess_input(image_batch.copy())\n",
    "    \n",
    "    def extract_labels(self, image, top = 3):\n",
    "        prediction = self.model.predict(image)\n",
    "        labels = decode_predictions(prediction, top=top) #default top 3\n",
    "        return [label[1] for label in labels[0]]\n",
    "    "
   ]
  },
  {
   "cell_type": "code",
   "execution_count": null,
   "metadata": {},
   "outputs": [],
   "source": [
    "%%time\n",
    "extractor0 = ImageExtractor(model='vgg19', resize_shape = (224, 224))\n",
    "extractor1 = ImageExtractor(model='inceptionv3', resize_shape = (299, 299))\n",
    "extractor2 = ImageExtractor(model='inceptionresnetv2', resize_shape = (299, 299))"
   ]
  },
  {
   "cell_type": "code",
   "execution_count": null,
   "metadata": {},
   "outputs": [],
   "source": [
    "image_file = 'Frame_00004570.jpg'\n",
    "img = extractor0.preprocess(image_file)\n",
    "labels = extractor0.extract_labels(img, top=3)\n",
    "print(labels)\n",
    "\n",
    "img = extractor1.preprocess(image_file)\n",
    "labels = extractor1.extract_labels(img, top=3)\n",
    "print(labels)\n",
    "\n",
    "img = extractor2.preprocess(image_file)\n",
    "labels = extractor2.extract_labels(img, top=3)\n",
    "print(labels)"
   ]
  },
  {
   "cell_type": "code",
   "execution_count": null,
   "metadata": {},
   "outputs": [],
   "source": [
    "%%time\n",
    "json_file = open('./data source/Life Is Strange 1/output 1/Life Is Strange.json')\n",
    "database = json.loads(json_file.read())\n",
    "for block in database:\n",
    "    folder = block['screenshots']['image_folder']\n",
    "    sessions = block['screenshots']['image_info']\n",
    "    for session in sessions:\n",
    "        for key, image in session['frames'].items():\n",
    "            file_path = os.path.join(folder, image['image_file'])\n",
    "            img = extractor1.preprocess(file_path)\n",
    "            labels = extractor1.extract_labels(img, top=5)\n",
    "            additional_texts = ' '.join(labels)\n",
    "            session['frames'][key]['image_keywords'] = additional_texts\n"
   ]
  },
  {
   "cell_type": "code",
   "execution_count": null,
   "metadata": {},
   "outputs": [],
   "source": [
    "with open('./data source/Life Is Strange 1/output 1/lifeisstrange_w_img_top5keywords.json', 'w+') as output_file:\n",
    "    json.dump(database, output_file, indent=4)\n"
   ]
  },
  {
   "cell_type": "code",
   "execution_count": null,
   "metadata": {},
   "outputs": [],
   "source": []
  }
 ],
 "metadata": {
  "kernelspec": {
   "display_name": "Python 3",
   "language": "python",
   "name": "python3"
  },
  "language_info": {
   "codemirror_mode": {
    "name": "ipython",
    "version": 3
   },
   "file_extension": ".py",
   "mimetype": "text/x-python",
   "name": "python",
   "nbconvert_exporter": "python",
   "pygments_lexer": "ipython3",
   "version": "3.6.2rc2"
  }
 },
 "nbformat": 4,
 "nbformat_minor": 2
}
