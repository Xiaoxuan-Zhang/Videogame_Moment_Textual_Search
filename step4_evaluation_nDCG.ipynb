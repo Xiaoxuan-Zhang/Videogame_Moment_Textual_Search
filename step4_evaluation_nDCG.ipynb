{
 "cells": [
  {
   "cell_type": "code",
   "execution_count": 1,
   "metadata": {},
   "outputs": [
    {
     "name": "stdout",
     "output_type": "stream",
     "text": [
      "Populating the interactive namespace from numpy and matplotlib\n"
     ]
    }
   ],
   "source": [
    "import os\n",
    "import json\n",
    "import math\n",
    "%pylab inline"
   ]
  },
  {
   "cell_type": "code",
   "execution_count": 2,
   "metadata": {},
   "outputs": [],
   "source": [
    "class Evaluation_nDCG:\n",
    "    def __init__(self, database_file):\n",
    "        with open(database_file, 'r') as f:\n",
    "            self.database = json.loads(f.read())\n",
    "            self.fps = dict()\n",
    "            for data in self.database:\n",
    "                self.fps[data['file_index']] = data['screenshots']['fps']\n",
    "        return;\n",
    "    \n",
    "    def frame_index(self, fps, time):\n",
    "        return int(fps * time)\n",
    "\n",
    "    def to_milliseconds(self, time_str):\n",
    "        time_tokens = time_str.split(':')\n",
    "        mSec = int(time_tokens[0])*3600 + int(time_tokens[1]) * 60 + int(time_tokens[2])\n",
    "        return mSec\n",
    "\n",
    "    def valid_answer(self, file_id, frame_id, answer_list):\n",
    "        hit = False\n",
    "        for answer in answer_list:\n",
    "            video_id = answer['video_id']\n",
    "            frame_start = self.frame_index(self.fps[file_id], self.to_milliseconds(answer['timeslot'][0]))\n",
    "            frame_stop = self.frame_index(self.fps[file_id], self.to_milliseconds(answer['timeslot'][1]))\n",
    "            #print(f'results:(file_id={file_id}, frame_id={frame_id}),answers:(video_id={video_id},frame_range=({frame_start}, {frame_stop}) )')\n",
    "            if file_id == video_id and (int(frame_id) >= frame_start and int(frame_id) <= frame_stop):\n",
    "                hit = True\n",
    "        return hit\n",
    "    \n",
    "    #Discounted Cumulative Gain \n",
    "    def calc_nDCG(self, answer_data, rst_data, rank_pos):\n",
    "        DCG = 0\n",
    "        IDCG = 0\n",
    "        nDCG = 0\n",
    "        rst_dir = {}\n",
    "        for n in range(len(rst_data)):\n",
    "            data = rst_data[n]\n",
    "            file_id = data['file']\n",
    "            frame_id = data['frame_id']\n",
    "            if self.valid_answer(file_id, frame_id, answer_data):\n",
    "                print(f'******Hit! Found an answer at rank {n+1}!******')\n",
    "                rst_dir[n+1] = 1 #The relevancy will always be binary 0 or 1\n",
    "            else:\n",
    "                rst_dir[n+1] = 0\n",
    "       \n",
    "        #calculate DCG \n",
    "        DCG = sum([rel/math.log2(rank + 1) for rank, rel in rst_dir.items()][:rank_pos])\n",
    "        #print(f\"DCG={DCG}\")\n",
    "        #Calculate IDCG\n",
    "        order_lst = sorted(rst_dir.values(), reverse=True)\n",
    "        IDCG = sum([rel/math.log2(rank + 2) for rank, rel in enumerate(order_lst)][:rank_pos])\n",
    "        #print(f\"IDCG={IDCG}\")\n",
    "        \n",
    "        if IDCG != 0:\n",
    "            nDCG = DCG/IDCG\n",
    "        return nDCG\n",
    "\n",
    "    def evaluation_mean_nDCG(self, result_file, answer_file, rank_pos=10): \n",
    "        json_file = open(result_file)\n",
    "        result_data = json.loads(json_file.read())\n",
    "        json_file = open(answer_file)\n",
    "        answer_data = json.loads(json_file.read())\n",
    "        \n",
    "        #print(\"number of results:\", len(result_data.keys()))\n",
    "        sum_nDCG = 0\n",
    "        for query, results in result_data.items():\n",
    "            print(f'query: {query}')\n",
    "            if query in answer_data.keys():\n",
    "                answer_list = answer_data[query]\n",
    "                sum_nDCG += self.calc_nDCG(answer_list, results, rank_pos)\n",
    "        #print(sum_nDCG)\n",
    "        mean_nDCG = sum_nDCG/len(result_data.keys())\n",
    "\n",
    "        return mean_nDCG"
   ]
  },
  {
   "cell_type": "code",
   "execution_count": 3,
   "metadata": {},
   "outputs": [
    {
     "name": "stdout",
     "output_type": "stream",
     "text": [
      "query: deduction scene\n",
      "query: rewind prompt\n",
      "query: Max fire alarm Chloe Rescue\n",
      "******Hit! Found an answer at rank 9!******\n",
      "query: Butterfly Bucket\n",
      "******Hit! Found an answer at rank 1!******\n",
      "query: Nathan Gun Chloe\n",
      "query: danger gun\n",
      "query: Time Freeze Kate Birds\n",
      "query: Kate Rooftop Max\n",
      "query: storm lightening\n",
      "******Hit! Found an answer at rank 3!******\n",
      "******Hit! Found an answer at rank 4!******\n",
      "query: storm cliff tornado\n",
      "query: toilet gun\n",
      "query: selfie classroom\n",
      "******Hit! Found an answer at rank 6!******\n",
      "******Hit! Found an answer at rank 7!******\n",
      "******Hit! Found an answer at rank 8!******\n",
      "query: Max gallery\n",
      "query: Kate hospital\n",
      "query: Restaurant Jukebox\n",
      "******Hit! Found an answer at rank 3!******\n",
      "query: swimming pool\n",
      "******Hit! Found an answer at rank 7!******\n",
      "******Hit! Found an answer at rank 8!******\n",
      "query: railway train stuck\n",
      "query: beacon\n",
      "query: sea sunset\n",
      "******Hit! Found an answer at rank 9!******\n",
      "query: jukebox cafe\n",
      "******Hit! Found an answer at rank 3!******\n",
      "******Hit! Found an answer at rank 10!******\n",
      "query: jump okay okay I'm right here Kate\n",
      "******Hit! Found an answer at rank 1!******\n",
      "******Hit! Found an answer at rank 2!******\n",
      "query: Kate she did try to kill herself all\n",
      "******Hit! Found an answer at rank 1!******\n",
      "******Hit! Found an answer at rank 2!******\n",
      "query: Warren's new car\n",
      "query: Chloe Smoking\n",
      "query: Spirit Doe\n",
      "query: Jump\n"
     ]
    },
    {
     "data": {
      "text/plain": [
       "0.23176734796586682"
      ]
     },
     "execution_count": 3,
     "metadata": {},
     "output_type": "execute_result"
    }
   ],
   "source": [
    "database_file = './data source/Life Is Strange 1/output 1/Life Is Strange.json'\n",
    "answer_file = './data source/Life Is Strange 1/output 1/correct_answers.json'\n",
    "result_file = './data source/Life Is Strange 1/output 1/Life Is Strange_results.json'\n",
    "tester0 = Evaluation_nDCG(database_file)\n",
    "tester0.evaluation_mean_nDCG(result_file, answer_file)"
   ]
  },
  {
   "cell_type": "code",
   "execution_count": 5,
   "metadata": {},
   "outputs": [
    {
     "name": "stdout",
     "output_type": "stream",
     "text": [
      "query: deduction scene\n",
      "query: rewind prompt\n",
      "query: Max fire alarm Chloe Rescue\n",
      "query: Butterfly Bucket\n",
      "******Hit! Found an answer at rank 4!******\n",
      "query: Nathan Gun Chloe\n",
      "query: danger gun\n",
      "******Hit! Found an answer at rank 7!******\n",
      "******Hit! Found an answer at rank 10!******\n",
      "query: Time Freeze Kate Birds\n",
      "query: Kate Rooftop Max\n",
      "query: storm lightening\n",
      "******Hit! Found an answer at rank 7!******\n",
      "query: storm cliff tornado\n",
      "******Hit! Found an answer at rank 1!******\n",
      "******Hit! Found an answer at rank 2!******\n",
      "******Hit! Found an answer at rank 3!******\n",
      "******Hit! Found an answer at rank 5!******\n",
      "******Hit! Found an answer at rank 7!******\n",
      "query: toilet gun\n",
      "query: selfie classroom\n",
      "******Hit! Found an answer at rank 1!******\n",
      "******Hit! Found an answer at rank 2!******\n",
      "******Hit! Found an answer at rank 3!******\n",
      "******Hit! Found an answer at rank 8!******\n",
      "******Hit! Found an answer at rank 10!******\n",
      "query: Max gallery\n",
      "query: Kate hospital\n",
      "query: Restaurant Jukebox\n",
      "query: swimming pool\n",
      "******Hit! Found an answer at rank 1!******\n",
      "query: railway train stuck\n",
      "query: beacon\n",
      "******Hit! Found an answer at rank 3!******\n",
      "******Hit! Found an answer at rank 5!******\n",
      "query: sea sunset\n",
      "******Hit! Found an answer at rank 2!******\n",
      "******Hit! Found an answer at rank 3!******\n",
      "******Hit! Found an answer at rank 4!******\n",
      "******Hit! Found an answer at rank 6!******\n",
      "******Hit! Found an answer at rank 7!******\n",
      "******Hit! Found an answer at rank 8!******\n",
      "******Hit! Found an answer at rank 9!******\n",
      "query: jukebox cafe\n",
      "******Hit! Found an answer at rank 1!******\n",
      "query: jump okay okay I'm right here Kate\n",
      "******Hit! Found an answer at rank 1!******\n",
      "******Hit! Found an answer at rank 2!******\n",
      "query: Kate she did try to kill herself all\n",
      "******Hit! Found an answer at rank 1!******\n",
      "query: Warren's new car\n",
      "query: Chloe Smoking\n",
      "query: Spirit Doe\n",
      "query: Jump\n"
     ]
    },
    {
     "data": {
      "text/plain": [
       "0.3220151447517286"
      ]
     },
     "execution_count": 5,
     "metadata": {},
     "output_type": "execute_result"
    }
   ],
   "source": [
    "database_file = './data source/Life Is Strange 1/output 1/lifeisstrange_w_img_top5keywords.json'\n",
    "answer_file = './data source/Life Is Strange 1/output 1/correct_answers.json'\n",
    "result_file = './data source/Life Is Strange 1/output 1/lifeisstrange_w_img_top5keywords_results.json'\n",
    "tester1 = Evaluation_nDCG(database_file)\n",
    "tester1.evaluation_mean_nDCG(result_file, answer_file)"
   ]
  },
  {
   "cell_type": "code",
   "execution_count": 6,
   "metadata": {
    "scrolled": false
   },
   "outputs": [
    {
     "name": "stdout",
     "output_type": "stream",
     "text": [
      "query: deduction scene\n",
      "query: rewind prompt\n",
      "query: Max fire alarm Chloe Rescue\n",
      "query: Butterfly Bucket\n",
      "******Hit! Found an answer at rank 1!******\n",
      "query: Nathan Gun Chloe\n",
      "query: danger gun\n",
      "******Hit! Found an answer at rank 1!******\n",
      "******Hit! Found an answer at rank 4!******\n",
      "******Hit! Found an answer at rank 8!******\n",
      "query: Time Freeze Kate Birds\n",
      "query: Kate Rooftop Max\n",
      "query: storm lightening\n",
      "query: storm cliff tornado\n",
      "******Hit! Found an answer at rank 1!******\n",
      "******Hit! Found an answer at rank 3!******\n",
      "******Hit! Found an answer at rank 8!******\n",
      "query: toilet gun\n",
      "query: selfie classroom\n",
      "******Hit! Found an answer at rank 1!******\n",
      "******Hit! Found an answer at rank 2!******\n",
      "******Hit! Found an answer at rank 9!******\n",
      "******Hit! Found an answer at rank 10!******\n",
      "query: Max gallery\n",
      "******Hit! Found an answer at rank 5!******\n",
      "query: Kate hospital\n",
      "query: Restaurant Jukebox\n",
      "query: swimming pool\n",
      "******Hit! Found an answer at rank 10!******\n",
      "query: railway train stuck\n",
      "query: beacon\n",
      "******Hit! Found an answer at rank 2!******\n",
      "******Hit! Found an answer at rank 9!******\n",
      "query: sea sunset\n",
      "******Hit! Found an answer at rank 3!******\n",
      "******Hit! Found an answer at rank 5!******\n",
      "******Hit! Found an answer at rank 7!******\n",
      "******Hit! Found an answer at rank 10!******\n",
      "query: jukebox cafe\n",
      "******Hit! Found an answer at rank 1!******\n",
      "query: jump okay okay I'm right here Kate\n",
      "******Hit! Found an answer at rank 1!******\n",
      "******Hit! Found an answer at rank 2!******\n",
      "query: Kate she did try to kill herself all\n",
      "******Hit! Found an answer at rank 1!******\n",
      "******Hit! Found an answer at rank 2!******\n",
      "query: Warren's new car\n",
      "******Hit! Found an answer at rank 6!******\n",
      "******Hit! Found an answer at rank 8!******\n",
      "query: Chloe Smoking\n",
      "query: Spirit Doe\n",
      "query: Jump\n"
     ]
    },
    {
     "data": {
      "text/plain": [
       "0.33795350781796013"
      ]
     },
     "execution_count": 6,
     "metadata": {},
     "output_type": "execute_result"
    }
   ],
   "source": [
    "database_file = './data source/Life Is Strange 1/output 1/lifeisstrange_w_img_top3keywords.json'\n",
    "answer_file = './data source/Life Is Strange 1/output 1/correct_answers.json'\n",
    "result_file = './data source/Life Is Strange 1/output 1/lifeisstrange_w_img_top3keywords_results.json'\n",
    "tester2 = Evaluation_nDCG(database_file)\n",
    "tester2.evaluation_mean_nDCG(result_file, answer_file)"
   ]
  },
  {
   "cell_type": "code",
   "execution_count": 7,
   "metadata": {},
   "outputs": [
    {
     "name": "stdout",
     "output_type": "stream",
     "text": [
      "query: deduction scene\n",
      "query: rewind prompt\n",
      "query: Max fire alarm Chloe Rescue\n",
      "query: Butterfly Bucket\n",
      "******Hit! Found an answer at rank 3!******\n",
      "******Hit! Found an answer at rank 9!******\n",
      "query: Nathan Gun Chloe\n",
      "query: danger gun\n",
      "******Hit! Found an answer at rank 1!******\n",
      "******Hit! Found an answer at rank 3!******\n",
      "******Hit! Found an answer at rank 4!******\n",
      "query: Time Freeze Kate Birds\n",
      "query: Kate Rooftop Max\n",
      "query: storm lightening\n",
      "******Hit! Found an answer at rank 10!******\n",
      "query: storm cliff tornado\n",
      "******Hit! Found an answer at rank 1!******\n",
      "******Hit! Found an answer at rank 2!******\n",
      "******Hit! Found an answer at rank 4!******\n",
      "******Hit! Found an answer at rank 6!******\n",
      "******Hit! Found an answer at rank 9!******\n",
      "******Hit! Found an answer at rank 10!******\n",
      "query: toilet gun\n",
      "query: selfie classroom\n",
      "******Hit! Found an answer at rank 1!******\n",
      "******Hit! Found an answer at rank 3!******\n",
      "******Hit! Found an answer at rank 7!******\n",
      "query: Max gallery\n",
      "query: Kate hospital\n",
      "query: Restaurant Jukebox\n",
      "query: swimming pool\n",
      "query: railway train stuck\n",
      "query: beacon\n",
      "******Hit! Found an answer at rank 1!******\n",
      "******Hit! Found an answer at rank 4!******\n",
      "******Hit! Found an answer at rank 8!******\n",
      "******Hit! Found an answer at rank 9!******\n",
      "query: sea sunset\n",
      "******Hit! Found an answer at rank 1!******\n",
      "******Hit! Found an answer at rank 2!******\n",
      "******Hit! Found an answer at rank 3!******\n",
      "******Hit! Found an answer at rank 4!******\n",
      "******Hit! Found an answer at rank 9!******\n",
      "******Hit! Found an answer at rank 10!******\n",
      "query: jukebox cafe\n",
      "******Hit! Found an answer at rank 2!******\n",
      "query: jump okay okay I'm right here Kate\n",
      "******Hit! Found an answer at rank 1!******\n",
      "******Hit! Found an answer at rank 3!******\n",
      "query: Kate she did try to kill herself all\n",
      "******Hit! Found an answer at rank 1!******\n",
      "******Hit! Found an answer at rank 2!******\n",
      "query: Warren's new car\n",
      "******Hit! Found an answer at rank 5!******\n",
      "******Hit! Found an answer at rank 8!******\n",
      "query: Chloe Smoking\n",
      "query: Spirit Doe\n",
      "query: Jump\n"
     ]
    },
    {
     "data": {
      "text/plain": [
       "0.3150363891404884"
      ]
     },
     "execution_count": 7,
     "metadata": {},
     "output_type": "execute_result"
    }
   ],
   "source": [
    "database_file = './data source/Life Is Strange 1/output 1/lifeisstrange_w_img_top3keywords.json'\n",
    "answer_file = './data source/Life Is Strange 1/output 1/correct_answers.json'\n",
    "result_file = './data source/Life Is Strange 1/output 1/lifeisstrange_w_img_top3keywords_results_ma.json' # window_size 5\n",
    "tester3 = Evaluation_nDCG(database_file)\n",
    "tester3.evaluation_mean_nDCG(result_file, answer_file)"
   ]
  },
  {
   "cell_type": "code",
   "execution_count": 8,
   "metadata": {},
   "outputs": [
    {
     "name": "stdout",
     "output_type": "stream",
     "text": [
      "query: storm cliff tornado\n",
      "******Hit! Found an answer at rank 1!******\n",
      "******Hit! Found an answer at rank 2!******\n",
      "******Hit! Found an answer at rank 3!******\n",
      "******Hit! Found an answer at rank 4!******\n",
      "******Hit! Found an answer at rank 5!******\n",
      "******Hit! Found an answer at rank 6!******\n",
      "******Hit! Found an answer at rank 7!******\n",
      "******Hit! Found an answer at rank 8!******\n",
      "******Hit! Found an answer at rank 9!******\n"
     ]
    },
    {
     "data": {
      "text/plain": [
       "1.0"
      ]
     },
     "execution_count": 8,
     "metadata": {},
     "output_type": "execute_result"
    }
   ],
   "source": [
    "database_file = './data source/Life Is Strange 1/output 1/lifeisstrange_w_img_top3keywords.json'\n",
    "answer_file = './data source/Life Is Strange 1/output 1/correct_answers.json'\n",
    "result_file = './data source/Life Is Strange 1/output 1/lifeisstrange_w_img_top3keywords_results_ma10.json' # window_size 10\n",
    "tester3 = Evaluation_nDCG(database_file)\n",
    "tester3.evaluation_mean_nDCG(result_file, answer_file)"
   ]
  },
  {
   "cell_type": "code",
   "execution_count": null,
   "metadata": {},
   "outputs": [],
   "source": []
  }
 ],
 "metadata": {
  "kernelspec": {
   "display_name": "Python 3",
   "language": "python",
   "name": "python3"
  },
  "language_info": {
   "codemirror_mode": {
    "name": "ipython",
    "version": 3
   },
   "file_extension": ".py",
   "mimetype": "text/x-python",
   "name": "python",
   "nbconvert_exporter": "python",
   "pygments_lexer": "ipython3",
   "version": "3.6.2rc2"
  }
 },
 "nbformat": 4,
 "nbformat_minor": 2
}
