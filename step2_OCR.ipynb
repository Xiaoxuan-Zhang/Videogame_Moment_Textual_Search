{
 "cells": [
  {
   "cell_type": "code",
   "execution_count": null,
   "metadata": {},
   "outputs": [],
   "source": [
    "from PIL import Image\n",
    "import pytesseract\n",
    "import cv2\n",
    "import os\n",
    "import json\n",
    "import re\n",
    "import string\n",
    "%pylab inline"
   ]
  },
  {
   "cell_type": "code",
   "execution_count": null,
   "metadata": {},
   "outputs": [],
   "source": [
    "def cleanup(text):\n",
    "    text = text.replace('\\n',' ')\n",
    "    tokens = text.split(' ')\n",
    "    new_tokens = []\n",
    "    for token in tokens:\n",
    "        token = token.strip()\n",
    "        token = re.sub(r'[^\\w\\s]', ' ', token)\n",
    "        token = ''.join(e for e in token if e.isalpha())\n",
    "        new_tokens.append(token)\n",
    "    return ' '.join(new_tokens)\n",
    "\n",
    "def text_extractor(file_name):\n",
    "    img = cv2.imread(file_name)\n",
    "    img_final = img.copy()\n",
    "    img2gray = cv2.cvtColor(img, cv2.COLOR_BGR2GRAY)\n",
    "    ret, mask = cv2.threshold(img2gray, 127, 255, cv2.THRESH_BINARY)\n",
    "    new_img = cv2.bitwise_and(img2gray, img2gray, mask=mask)\n",
    "    ret, new_img = cv2.threshold(new_img, 127, 255, cv2.THRESH_BINARY)  # for black text , cv.THRESH_BINARY_INV\n",
    "    '''\n",
    "            line  8 to 12  : Remove noisy portion \n",
    "    '''\n",
    "    kernel = cv2.getStructuringElement(cv2.MORPH_CROSS, (3,\n",
    "                                                         3))  # to manipulate the orientation of dilution , large x means horizonatally dilating  more, large y means vertically dilating more\n",
    "    dilated = cv2.dilate(new_img, kernel, iterations=9)  # dilate , more the iteration more the dilation\n",
    "\n",
    "    # for cv2.x.x\n",
    "\n",
    "    #_, contours, hierarchy = cv2.findContours(dilated, cv2.RETR_EXTERNAL, cv2.CHAIN_APPROX_NONE)  # findContours returns 3 variables for getting contours\n",
    "\n",
    "    # for cv3.x.x comment above line and uncomment line below\n",
    "\n",
    "    image, contours, hierarchy = cv2.findContours(dilated,cv2.RETR_EXTERNAL,cv2.CHAIN_APPROX_NONE)\n",
    "    cropped_imgs = []\n",
    "    textboxes = []\n",
    "    for contour in contours:\n",
    "        # get rectangle bounding contour\n",
    "        [x, y, w, h] = cv2.boundingRect(contour)\n",
    "\n",
    "        # Don't plot small false positives that aren't text\n",
    "        if w < 10 and h < 10:\n",
    "            continue\n",
    "            \n",
    "        # draw rectangle around contour on original image\n",
    "        cv2.rectangle(img, (x, y), (x + w, y + h), (255, 0, 255), 2)\n",
    "\n",
    "        '''\n",
    "        #you can crop image and send to OCR  , false detected will return no text :)\n",
    "        cropped = img_final[y :y +  h , x : x + w]\n",
    "\n",
    "        s = file_name + '/crop_' + str(index) + '.jpg' \n",
    "        cv2.imwrite(s , cropped)\n",
    "        index = index + 1\n",
    "\n",
    "        '''\n",
    "        cropped = img_final[y :y +  h , x : x + w]\n",
    "        cropped_imgs.append(cropped)\n",
    "        \n",
    "        text = pytesseract.image_to_string(cropped)\n",
    "        if len(text) > 0:\n",
    "            textboxes.append([text, x, y])\n",
    "        \n",
    "    textboxes = sorted(textboxes, key=lambda x: (x[2], x[1]))\n",
    "    text = ' '.join([text[0] for text in textboxes])\n",
    "    print(text)\n",
    "    return cleanup(text)\n",
    "\n"
   ]
  },
  {
   "cell_type": "code",
   "execution_count": null,
   "metadata": {},
   "outputs": [],
   "source": [
    "text_extractor('./opencv-text-recognition/images/example_04.jpg')"
   ]
  },
  {
   "cell_type": "code",
   "execution_count": null,
   "metadata": {},
   "outputs": [],
   "source": []
  },
  {
   "cell_type": "code",
   "execution_count": null,
   "metadata": {},
   "outputs": [],
   "source": [
    "text = '''Life ls Strange is a story based game that features player choice, the consequences\n",
    "of all yow in game actions and decisions will impact the past, pvesent and futuve.\n",
    "Choose wisely“.'''\n",
    "print(cleanup(text))"
   ]
  },
  {
   "cell_type": "code",
   "execution_count": null,
   "metadata": {},
   "outputs": [],
   "source": [
    "%%time\n",
    "json_file = open('./data source/Life Is Strange 1/output/lifeisstrange_w_img_keywords.json')\n",
    "database = json.loads(json_file.read())\n",
    "for block in database:\n",
    "    folder = block['screenshots']['image_folder']\n",
    "    sessions = block['screenshots']['image_info']\n",
    "    for session in sessions:\n",
    "        for key, image in session['frames'].items():\n",
    "            file_path = os.path.join(folder, image['image_file'])\n",
    "            texts = image_to_texts(file_path)\n",
    "            print(texts)\n",
    "            session['frames'][key]['image_texts'] = texts\n",
    "\n",
    "with open('./data source/Life Is Strange 1/output/lifeisstrange_w_img_texts.json', 'w+') as output_file:\n",
    "    json.dump(database, output_file, indent=4)"
   ]
  },
  {
   "cell_type": "code",
   "execution_count": null,
   "metadata": {},
   "outputs": [],
   "source": []
  }
 ],
 "metadata": {
  "kernelspec": {
   "display_name": "Python 3",
   "language": "python",
   "name": "python3"
  },
  "language_info": {
   "codemirror_mode": {
    "name": "ipython",
    "version": 3
   },
   "file_extension": ".py",
   "mimetype": "text/x-python",
   "name": "python",
   "nbconvert_exporter": "python",
   "pygments_lexer": "ipython3",
   "version": "3.6.2rc2"
  }
 },
 "nbformat": 4,
 "nbformat_minor": 2
}
